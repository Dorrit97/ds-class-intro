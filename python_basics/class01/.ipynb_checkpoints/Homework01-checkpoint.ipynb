{
 "cells": [
  {
   "cell_type": "markdown",
   "id": "b84b7fe7",
   "metadata": {},
   "source": [
    "#### Excercise2:\n",
    "Define a fraction number with numerator=123 and denominator=456, print out the fraction number in format a/b and the quotient with 8 digits after decimal point.\n",
    "Sample output: \"123/456 = 0.269737\"\n"
   ]
  },
  {
   "cell_type": "code",
   "execution_count": 1,
   "id": "b1761ae8",
   "metadata": {},
   "outputs": [
    {
     "name": "stdout",
     "output_type": "stream",
     "text": [
      "123/456=0.26973684\n"
     ]
    }
   ],
   "source": [
    "numerator = 123\n",
    "denominator = 456\n",
    "\n",
    "# code up your solution below\n",
    "\n",
    "print('123/456={:.8f}'.format(123/456))"
   ]
  },
  {
   "cell_type": "markdown",
   "id": "35f86440",
   "metadata": {},
   "source": [
    "Print out every other character of the string \"Data Science\" using string slicing."
   ]
  },
  {
   "cell_type": "code",
   "execution_count": 2,
   "id": "c7fcaa72",
   "metadata": {},
   "outputs": [
    {
     "name": "stdout",
     "output_type": "stream",
     "text": [
      "Dt ccne\n"
     ]
    }
   ],
   "source": [
    "data = 'Data Scicence'\n",
    "print(data[::2])"
   ]
  },
  {
   "cell_type": "markdown",
   "id": "092414b2",
   "metadata": {},
   "source": [
    "The string regex_wiki contains the second paragraph of regular expression introduction in Wikipedia. Modify the string with all lower case and no space."
   ]
  },
  {
   "cell_type": "code",
   "execution_count": 8,
   "id": "f18c3521",
   "metadata": {},
   "outputs": [
    {
     "name": "stdout",
     "output_type": "stream",
     "text": [
      "theconceptaroseinthe1950swhentheamericanmathematicianstephencolekleeneformalized\n",
      "thedescriptionofaregularlanguage.theconceptcameintocommonusewithunixtext-processingutilities.\n",
      "differentsyntaxesforwritingregularexpressionshaveexistedsincethe1980s,onebeingtheposixstandard\n",
      "andanother,widelyused,beingtheperlsyntax.\n"
     ]
    }
   ],
   "source": [
    "regex_wiki = \"\"\"The concept arose in the 1950s when the American mathematician Stephen Cole Kleene formalized \n",
    "the description of a regular language. The concept came into common use with Unix text-processing utilities. \n",
    "Different syntaxes for writing regular expressions have existed since the 1980s, one being the POSIX standard \n",
    "and another, widely used, being the Perl syntax.\"\"\"\n",
    "\n",
    "# code up your solution below and print to check answer\n",
    "print((regex_wiki.lower()).replace(' ',''))"
   ]
  },
  {
   "cell_type": "markdown",
   "id": "74625dfd",
   "metadata": {},
   "source": [
    "Replace all data with <3 in the following string. Use a string method to check data is not in the new string."
   ]
  },
  {
   "cell_type": "code",
   "execution_count": 14,
   "id": "54c35a6b",
   "metadata": {},
   "outputs": [
    {
     "name": "stdout",
     "output_type": "stream",
     "text": [
      "<3 science continues to evolve as one of the most promising and in-demand career paths for \n",
      "skilled professionals. today, successful <3 professionals understand that they must advance past the traditional \n",
      "skills of analyzing large amounts of <3, <3 mining, and programming skills. in order to uncover useful \n",
      "intelligence for their organizations, <3 scientists must master the full spectrum of the <3 science life cycle \n",
      "and possess a level of flexibility and understanding to maximize returns at each phase of the process.\n"
     ]
    },
    {
     "data": {
      "text/plain": [
       "False"
      ]
     },
     "execution_count": 14,
     "metadata": {},
     "output_type": "execute_result"
    }
   ],
   "source": [
    "data_science = \"\"\"Data science continues to evolve as one of the most promising and in-demand career paths for \n",
    "skilled professionals. Today, successful data professionals understand that they must advance past the traditional \n",
    "skills of analyzing large amounts of data, data mining, and programming skills. In order to uncover useful \n",
    "intelligence for their organizations, data scientists must master the full spectrum of the data science life cycle \n",
    "and possess a level of flexibility and understanding to maximize returns at each phase of the process.\"\"\"\n",
    "\n",
    "# code up your solution below\n",
    "data_science = data_science.lower()\n",
    "new_data_science = data_science.replace('data','<3')\n",
    "print(new_data_science)\n",
    "'data' in new_data_science"
   ]
  },
  {
   "cell_type": "markdown",
   "id": "48bba28c",
   "metadata": {},
   "source": [
    "(Bonus Challenge): if you are familiar with string manipulation and regex, use python's regular expression re module to replace the first a in all data in the paragraph above, and keep the original case for the word."
   ]
  },
  {
   "cell_type": "code",
   "execution_count": 16,
   "id": "15721bd9",
   "metadata": {},
   "outputs": [
    {
     "data": {
      "text/plain": [
       "'D<3TA D<3ta D<3TA d<3TA dota daTa'"
      ]
     },
     "execution_count": 16,
     "metadata": {},
     "output_type": "execute_result"
    }
   ],
   "source": [
    "import re\n",
    "# code up your solution here\n",
    "data_science = \"\"\"Data science continues to evolve as one of the most promising and in-demand career paths for \n",
    "skilled professionals. Today, successful data professionals understand that they must advance past the traditional \n",
    "skills of analyzing large amounts of data, data mining, and programming skills. In order to uncover useful \n",
    "intelligence for their organizations, data scientists must master the full spectrum of the data science life cycle \n",
    "and possess a level of flexibility and understanding to maximize returns at each phase of the process.\"\"\"\n",
    "\n",
    "\n",
    "aaa = 'DATA Data DaTA dATA dota daTa'\n",
    "re.sub(r'(?<=(?i)d)(a)(?=(?i)ta )', '<3', aaa)\n"
   ]
  },
  {
   "cell_type": "markdown",
   "id": "811a5822",
   "metadata": {},
   "source": [
    "### Exercise 3.\n",
    "Write a program flow which will assign grade by the test scores using the following conditions:\n",
    "\n",
    "If score >= 90, grade=\"A\"\n",
    "If 80 >= score >90, grade=\"B\"\n",
    "If 70 >= score >80, grade=\"C\"\n",
    "If 60 >= score >70, grade=\"D\"\n",
    "IF score < 60, grade=\"F\""
   ]
  },
  {
   "cell_type": "code",
   "execution_count": 18,
   "id": "4c52a9cc",
   "metadata": {},
   "outputs": [
    {
     "name": "stdout",
     "output_type": "stream",
     "text": [
      "F\n"
     ]
    }
   ],
   "source": [
    "# code up your solution here\n",
    "score = 55\n",
    "\n",
    "\n",
    "if score >= 90:\n",
    "    grade = 'A'\n",
    "elif score >= 80:\n",
    "    grade = 'B'\n",
    "elif score >= 70:\n",
    "    grade = 'C'\n",
    "elif score >= 60:\n",
    "    grade = 'D'\n",
    "else:\n",
    "    grade = 'F'\n",
    "    \n",
    "print(grade)\n",
    "\n",
    "\n"
   ]
  },
  {
   "cell_type": "markdown",
   "id": "7e54d2fa",
   "metadata": {},
   "source": [
    "x=1, y=1, write a flow to assign messge to different value base on different criteria as below, and in the end print out the message:\n",
    "\n",
    "a. If x less than y, messge=\"x is less than y\"\n",
    "\n",
    "b. If x larger than y, messge=\"x is greater than y\"\n",
    "\n",
    "c. If x equal to y, messge=\"x is the same as y\""
   ]
  },
  {
   "cell_type": "code",
   "execution_count": 22,
   "id": "2d10965e",
   "metadata": {},
   "outputs": [
    {
     "name": "stdout",
     "output_type": "stream",
     "text": [
      "x is equal to y\n"
     ]
    }
   ],
   "source": [
    "x = 6\n",
    "y = 6\n",
    "\n",
    "if x < y:\n",
    "    print('x is less than y')\n",
    "elif x > y:\n",
    "    print('x is greater than y')\n",
    "else:\n",
    "    print('x is equal to y')"
   ]
  },
  {
   "cell_type": "markdown",
   "id": "31c97211",
   "metadata": {},
   "source": [
    "### Exercise 4.\n",
    "4.The Fibonacci Sequence is the series of numbers: 0, 1, 1, 2, 3, 5, 8, 13, 21, 34, ...\n",
    "The next number is found by adding up the two numbers before it. Find the last element of the fibolist"
   ]
  },
  {
   "cell_type": "code",
   "execution_count": 48,
   "id": "312fe555",
   "metadata": {},
   "outputs": [
    {
     "name": "stdout",
     "output_type": "stream",
     "text": [
      "[0, 1, 1, 2, 3, 5, 8, 13, 21, 34, 55, 89, 144, 233, 377, 610, 987, 1597, 2584, 4181, 6765, 10946, 17711, 28657, 46368, 75025, 121393, 196418, 317811]\n"
     ]
    },
    {
     "data": {
      "text/plain": [
       "514229"
      ]
     },
     "execution_count": 48,
     "metadata": {},
     "output_type": "execute_result"
    }
   ],
   "source": [
    "fibolist=[0, 1, 1, 2, 3, 5, 8, 13, 21, 34, 55, 89, 144, 233, 377, 610, 987, 1597, 2584, 4181, 6765, 10946, 17711, 28657, 46368, 75025, 121393, 196418, 317811]\n",
    "print(fibolist)\n",
    "# code your solution here\n",
    "len(fibolist)\n",
    "fibolist[28]+fibolist[27]"
   ]
  },
  {
   "cell_type": "markdown",
   "id": "3d605b9d",
   "metadata": {},
   "source": [
    "5.Calculate the sum of fibolist"
   ]
  },
  {
   "cell_type": "code",
   "execution_count": 46,
   "id": "1adb0ee7",
   "metadata": {},
   "outputs": [
    {
     "data": {
      "text/plain": [
       "832039"
      ]
     },
     "execution_count": 46,
     "metadata": {},
     "output_type": "execute_result"
    }
   ],
   "source": [
    "sum(fibolist)"
   ]
  },
  {
   "cell_type": "markdown",
   "id": "bd908a4b",
   "metadata": {},
   "source": [
    "6.Calculate and append the next fibonacci number to fibolist."
   ]
  },
  {
   "cell_type": "code",
   "execution_count": 47,
   "id": "18ac295e",
   "metadata": {},
   "outputs": [
    {
     "data": {
      "text/plain": [
       "[0,\n",
       " 1,\n",
       " 1,\n",
       " 2,\n",
       " 3,\n",
       " 5,\n",
       " 8,\n",
       " 13,\n",
       " 21,\n",
       " 34,\n",
       " 55,\n",
       " 89,\n",
       " 144,\n",
       " 233,\n",
       " 377,\n",
       " 610,\n",
       " 987,\n",
       " 1597,\n",
       " 2584,\n",
       " 4181,\n",
       " 6765,\n",
       " 10946,\n",
       " 17711,\n",
       " 28657,\n",
       " 46368,\n",
       " 75025,\n",
       " 121393,\n",
       " 196418,\n",
       " 317811,\n",
       " 514229]"
      ]
     },
     "execution_count": 47,
     "metadata": {},
     "output_type": "execute_result"
    }
   ],
   "source": [
    "fibolist.append(fibolist[28]+fibolist[27])\n",
    "fibolist\n"
   ]
  },
  {
   "cell_type": "markdown",
   "id": "39fb4a01",
   "metadata": {},
   "source": [
    "7.Create a reversed copy of fibolist without permanently reversing fibolist liteslf."
   ]
  },
  {
   "cell_type": "code",
   "execution_count": 49,
   "id": "3fc2fd1c",
   "metadata": {},
   "outputs": [
    {
     "name": "stdout",
     "output_type": "stream",
     "text": [
      "[317811, 196418, 121393, 75025, 46368, 28657, 17711, 10946, 6765, 4181, 2584, 1597, 987, 610, 377, 233, 144, 89, 55, 34, 21, 13, 8, 5, 3, 2, 1, 1, 0]\n"
     ]
    }
   ],
   "source": [
    "fibo_reverse = fibolist[::-1]\n",
    "print(fibo_reverse)\n"
   ]
  },
  {
   "cell_type": "markdown",
   "id": "9ace2935",
   "metadata": {},
   "source": [
    "8.Check if 29473 is a fibonacci number, and assign the anser to variable fibo_29473"
   ]
  },
  {
   "cell_type": "code",
   "execution_count": 51,
   "id": "5b271ab2",
   "metadata": {},
   "outputs": [
    {
     "name": "stdout",
     "output_type": "stream",
     "text": [
      "False\n"
     ]
    }
   ],
   "source": [
    "fibo_29473 = 29473 in fibolist\n",
    "print(fibo_29473)"
   ]
  },
  {
   "cell_type": "markdown",
   "id": "8e621a37",
   "metadata": {},
   "source": [
    "9.Create two sets. Calculate the union, intersection, difference and symmetric difference for the two sets."
   ]
  },
  {
   "cell_type": "code",
   "execution_count": 61,
   "id": "1d81d806",
   "metadata": {},
   "outputs": [
    {
     "data": {
      "text/plain": [
       "{'b', 'j'}"
      ]
     },
     "execution_count": 61,
     "metadata": {},
     "output_type": "execute_result"
    }
   ],
   "source": [
    "a = set('bjslab')\n",
    "b = set('jib')\n",
    "a|b\n",
    "a&b\n"
   ]
  },
  {
   "cell_type": "code",
   "execution_count": null,
   "id": "f7f0f541",
   "metadata": {},
   "outputs": [],
   "source": []
  }
 ],
 "metadata": {
  "kernelspec": {
   "display_name": "Python 3 (ipykernel)",
   "language": "python",
   "name": "python3"
  },
  "language_info": {
   "codemirror_mode": {
    "name": "ipython",
    "version": 3
   },
   "file_extension": ".py",
   "mimetype": "text/x-python",
   "name": "python",
   "nbconvert_exporter": "python",
   "pygments_lexer": "ipython3",
   "version": "3.8.11"
  }
 },
 "nbformat": 4,
 "nbformat_minor": 5
}
